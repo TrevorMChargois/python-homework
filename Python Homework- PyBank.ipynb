{
 "cells": [
  {
   "cell_type": "code",
   "execution_count": 1,
   "metadata": {},
   "outputs": [],
   "source": [
    "from pathlib import Path\n",
    "import csv"
   ]
  },
  {
   "cell_type": "code",
   "execution_count": 2,
   "metadata": {},
   "outputs": [],
   "source": [
    "total_months = 0\n",
    "total_rev = 0\n",
    "current_mo = 0\n",
    "previous_mo = 0\n",
    "revenue_delta = 0\n",
    "average_delta = []\n",
    "months = []"
   ]
  },
  {
   "cell_type": "code",
   "execution_count": 3,
   "metadata": {},
   "outputs": [],
   "source": [
    "csv_path = Path (\"budget_data.csv\")\n",
    "\n",
    "with open(csv_path,'r', newline = \"\") as csvfile:\n",
    "    csvreader = csv.reader(csvfile, delimiter = ',')\n",
    "    \n",
    "    next(csvreader)\n",
    "    \n",
    "    for row in csvreader:\n",
    "        total_months = total_months + 1\n",
    "        months.append(row[0])\n",
    "        current_mo = int(row[1])\n",
    "        total_rev = total_rev + current_mo\n",
    "        if total_months > 1:\n",
    "            revenue_delta = current_mo - previous_mo\n",
    "            average_delta.append(revenue_delta)"
   ]
  },
  {
   "cell_type": "code",
   "execution_count": 6,
   "metadata": {},
   "outputs": [],
   "source": [
    "sum_revenue_delta = sum(average_delta)\n",
    "avg_delta = sum_revenue_delta / (total_months - 1)\n",
    "max_delta = max(average_delta)\n",
    "min_delta = min(average_delta)\n",
    "max_mo_index = average_delta.index(max_delta)\n",
    "min_mo_index  = average_delta.index(min_delta)\n",
    "max_month = months[max_mo_index]\n",
    "min_month = months[min_mo_index]"
   ]
  },
  {
   "cell_type": "code",
   "execution_count": 7,
   "metadata": {},
   "outputs": [
    {
     "name": "stdout",
     "output_type": "stream",
     "text": [
      "Finacial Analysis\n"
     ]
    }
   ],
   "source": [
    "print(\"Finacial Analysis\")"
   ]
  },
  {
   "cell_type": "code",
   "execution_count": 24,
   "metadata": {},
   "outputs": [
    {
     "name": "stdout",
     "output_type": "stream",
     "text": [
      "Total Months: 86\n",
      "Total Revenue: $38382578\n",
      "Average Revenue Change: $441349.34117647057\n",
      "Greatest Increase in Revenue: Jan-2012 ($1170593)\n",
      "Greatest Decrease in Revenue: Aug-2013 ($-1196225)\n"
     ]
    }
   ],
   "source": [
    "print(f\"Total Months: {total_months}\")\n",
    "print(f\"Total Revenue: ${total_rev}\")\n",
    "print(f\"Average Revenue Change: ${avg_delta}\")\n",
    "print(f\"Greatest Increase in Revenue: {max_month} (${max_delta})\")\n",
    "print(f\"Greatest Decrease in Revenue: {min_month} (${min_delta})\")"
   ]
  },
  {
   "cell_type": "code",
   "execution_count": null,
   "metadata": {},
   "outputs": [],
   "source": []
  },
  {
   "cell_type": "code",
   "execution_count": null,
   "metadata": {},
   "outputs": [],
   "source": []
  },
  {
   "cell_type": "code",
   "execution_count": null,
   "metadata": {},
   "outputs": [],
   "source": []
  },
  {
   "cell_type": "code",
   "execution_count": null,
   "metadata": {},
   "outputs": [],
   "source": []
  },
  {
   "cell_type": "code",
   "execution_count": null,
   "metadata": {},
   "outputs": [],
   "source": []
  }
 ],
 "metadata": {
  "kernelspec": {
   "display_name": "Python 3",
   "language": "python",
   "name": "python3"
  },
  "language_info": {
   "codemirror_mode": {
    "name": "ipython",
    "version": 3
   },
   "file_extension": ".py",
   "mimetype": "text/x-python",
   "name": "python",
   "nbconvert_exporter": "python",
   "pygments_lexer": "ipython3",
   "version": "3.7.3"
  }
 },
 "nbformat": 4,
 "nbformat_minor": 4
}
